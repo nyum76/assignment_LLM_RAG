{
 "cells": [
  {
   "cell_type": "markdown",
   "metadata": {},
   "source": [
    "## 1. 환경 설정\n"
   ]
  },
  {
   "cell_type": "code",
   "execution_count": 20,
   "metadata": {},
   "outputs": [
    {
     "data": {
      "text/plain": [
       "True"
      ]
     },
     "execution_count": 20,
     "metadata": {},
     "output_type": "execute_result"
    }
   ],
   "source": [
    "# API 키를 환경변수로 관리하기 위한 설정 파일\n",
    "from dotenv import load_dotenv\n",
    "\n",
    "# API 키 정보 로드\n",
    "load_dotenv()"
   ]
  },
  {
   "cell_type": "code",
   "execution_count": 21,
   "metadata": {},
   "outputs": [],
   "source": [
    "from langchain_text_splitters import RecursiveCharacterTextSplitter # 문서의 단락을 청크 사이즈로 쪼개주는 역할\n",
    "from langchain_community.document_loaders import PyMuPDFLoader\n",
    "from langchain_community.vectorstores import FAISS\n",
    "from langchain_core.output_parsers import StrOutputParser\n",
    "from langchain_core.runnables import RunnablePassthrough\n",
    "from langchain_core.prompts import PromptTemplate\n",
    "from langchain_openai import ChatOpenAI, OpenAIEmbeddings"
   ]
  },
  {
   "cell_type": "markdown",
   "metadata": {},
   "source": [
    "`pip install pymupdf`"
   ]
  },
  {
   "cell_type": "code",
   "execution_count": 22,
   "metadata": {},
   "outputs": [],
   "source": [
    "# 1단계 : 문서 로드 \n",
    "loader = PyMuPDFLoader(\"/Users/t2023-m0072/Desktop/assignment_LLM_RAG/RAG/PDF/인공지능산업최신동향_2024년11월호.pdf\")\n",
    "docs = loader.load()\n"
   ]
  },
  {
   "cell_type": "code",
   "execution_count": 23,
   "metadata": {},
   "outputs": [
    {
     "data": {
      "text/plain": [
       "'Ⅰ. 인공지능 산업 동향 브리프\\n'"
      ]
     },
     "execution_count": 23,
     "metadata": {},
     "output_type": "execute_result"
    }
   ],
   "source": [
    "\n",
    "# 확인\n",
    "docs[2].page_content # Document 타입, 페이지 단위로 분할\n"
   ]
  },
  {
   "cell_type": "code",
   "execution_count": 24,
   "metadata": {},
   "outputs": [
    {
     "data": {
      "text/plain": [
       "{'source': '/Users/t2023-m0072/Desktop/assignment_LLM_RAG/RAG/PDF/인공지능산업최신동향_2024년11월호.pdf',\n",
       " 'file_path': '/Users/t2023-m0072/Desktop/assignment_LLM_RAG/RAG/PDF/인공지능산업최신동향_2024년11월호.pdf',\n",
       " 'page': 2,\n",
       " 'total_pages': 25,\n",
       " 'format': 'PDF 1.4',\n",
       " 'title': '',\n",
       " 'author': 'dj',\n",
       " 'subject': '',\n",
       " 'keywords': '',\n",
       " 'creator': 'Hwp 2018 10.0.0.13947',\n",
       " 'producer': 'Hancom PDF 1.3.0.547',\n",
       " 'creationDate': \"D:20241105150426+09'00'\",\n",
       " 'modDate': \"D:20241105150426+09'00'\",\n",
       " 'trapped': ''}"
      ]
     },
     "execution_count": 24,
     "metadata": {},
     "output_type": "execute_result"
    }
   ],
   "source": [
    "\n",
    "docs[2].metadata # 해당 페이지의 정보 확인\n"
   ]
  },
  {
   "cell_type": "code",
   "execution_count": 25,
   "metadata": {},
   "outputs": [
    {
     "name": "stdout",
     "output_type": "stream",
     "text": [
      "25\n"
     ]
    }
   ],
   "source": [
    "\n",
    "print(len(docs)) # 25 개 페이지 확인"
   ]
  },
  {
   "cell_type": "code",
   "execution_count": 26,
   "metadata": {},
   "outputs": [
    {
     "data": {
      "text/plain": [
       "489"
      ]
     },
     "execution_count": 26,
     "metadata": {},
     "output_type": "execute_result"
    }
   ],
   "source": [
    "\n",
    "# 2단계 : 문서 분할 (RecursiveCharacterTextSplitter)\n",
    "recursive_text_splitter = RecursiveCharacterTextSplitter(\n",
    "    chunk_size=100, # 각 청크 최대 100자 까지\n",
    "    chunk_overlap=10, # 청크간 최대 10자 중복\n",
    "    length_function=len, # 길이 계산 함수 : 문자 수 기준 (len())\n",
    "    is_separator_regex=False, # 구분자가 정규 표현식인지 여부 (False : 정확히 일치하는 구분자 기준)\n",
    ")\n",
    "\n",
    "split_documents = recursive_text_splitter.split_documents(docs) # 청킹 결과물 저장\n",
    "\n",
    "# 길이 확인\n",
    "len(split_documents)"
   ]
  },
  {
   "cell_type": "code",
   "execution_count": 27,
   "metadata": {},
   "outputs": [
    {
     "name": "stdout",
     "output_type": "stream",
     "text": [
      "page_content='2024년 11월호\n",
      "Ⅰ. 인공지능 산업 동향 브리프\n",
      " 1. 정책/법제' metadata={'source': '/Users/t2023-m0072/Desktop/assignment_LLM_RAG/RAG/PDF/인공지능산업최신동향_2024년11월호.pdf', 'file_path': '/Users/t2023-m0072/Desktop/assignment_LLM_RAG/RAG/PDF/인공지능산업최신동향_2024년11월호.pdf', 'page': 1, 'total_pages': 25, 'format': 'PDF 1.4', 'title': '', 'author': 'dj', 'subject': '', 'keywords': '', 'creator': 'Hwp 2018 10.0.0.13947', 'producer': 'Hancom PDF 1.3.0.547', 'creationDate': \"D:20241105150426+09'00'\", 'modDate': \"D:20241105150426+09'00'\", 'trapped': ''}\n"
     ]
    }
   ],
   "source": [
    "print(split_documents[1])"
   ]
  },
  {
   "cell_type": "code",
   "execution_count": 28,
   "metadata": {},
   "outputs": [
    {
     "name": "stdout",
     "output_type": "stream",
     "text": [
      "Chunk 1:2024년 11월호\n",
      "\n",
      "\n",
      "Chunk 2:2024년 11월호\n",
      "Ⅰ. 인공지능 산업 동향 브리프\n",
      " 1. 정책/법제\n",
      "\n",
      "\n",
      "Chunk 3:▹ 미국 민권위원회, 연방정부의 얼굴인식 기술 사용에 따른 민권 영향 분석························ 1\n",
      "\n",
      "\n",
      "Chunk 4:▹ 미국 백악관 예산관리국, 정부의 책임 있는 AI 조달을 위한 지침 발표····························· 2\n",
      "\n",
      "\n",
      "Chunk 5:▹ 유로폴, 법 집행에서 AI의 이점과 과제를 다룬 보고서 발간·············································· 3\n",
      "\n",
      "\n",
      "Chunk 6:▹ OECD, 공공 부문의 AI 도입을 위한 G7 툴킷 발표·························································· 4\n",
      "\n",
      "\n",
      "Chunk 7:▹ 세계경제포럼, 생성AI 시대의 거버넌스 프레임워크 제시···················································· 5\n",
      "\n",
      "\n",
      "Chunk 8:2. 기업/산업 \n",
      "   ▹ CB인사이츠 분석 결과, 2024년 3분기 벤처 투자 31%가 AI 스타트업에 집중·············· 6\n",
      "\n",
      "\n",
      "Chunk 9:▹ 메타, 동영상 생성AI 도구 ‘메타 무비 젠’\n",
      "\n",
      "\n",
      "Chunk 10:‘메타 무비 젠’ 공개··································································· 7\n",
      "\n",
      "\n"
     ]
    }
   ],
   "source": [
    "\n",
    "# 청킹된 내용의 상위 10개 출력\n",
    "top_10 = split_documents[:10]\n",
    "# print(f\"Chunk 3:{splits[3]}\")\n",
    "for i, chunk in enumerate(top_10, 1):\n",
    "    page_content = chunk.page_content\n",
    "    print(f\"Chunk {i}:{page_content[:300]}\\n\\n\")"
   ]
  },
  {
   "cell_type": "code",
   "execution_count": 29,
   "metadata": {},
   "outputs": [],
   "source": [
    "# 3단계 : 벡터 임베딩 생성 \n",
    "# 임베딩 : 청크 단위로 쪼개진 단락들을 숫자 표현으로 바꿔줌\n",
    "embeddings = OpenAIEmbeddings(model = \"text-embedding-ada-002\") # OpenAIEmbeddings 로 임베딩 알고리즘을 사용"
   ]
  },
  {
   "cell_type": "code",
   "execution_count": 30,
   "metadata": {},
   "outputs": [],
   "source": [
    "# 4단계 : DB 생성 및 저장\n",
    "vectorstore = FAISS.from_documents(\n",
    "    documents=split_documents,  # 청킹된 결과물 (489 개로 분할된 문단)\n",
    "    embedding=embeddings # 가져온 임베딩 알고리즘을 넣어줌\n",
    ")  # split_documents 를 임베딩 알고리즘으로 임베딩하여 Vecor DB(FAISS) 에 저장\n",
    "\n",
    "## 아직 PC 에 저장하진 않았고 메모리에 저장되어 있는 상태"
   ]
  },
  {
   "cell_type": "code",
   "execution_count": 32,
   "metadata": {},
   "outputs": [
    {
     "data": {
      "text/plain": [
       "VectorStoreRetriever(tags=['FAISS', 'OpenAIEmbeddings'], vectorstore=<langchain_community.vectorstores.faiss.FAISS object at 0x12a4009b0>, search_kwargs={})"
      ]
     },
     "execution_count": 32,
     "metadata": {},
     "output_type": "execute_result"
    }
   ],
   "source": [
    "# 5단계 : 검색기 (Retriever) 생성\n",
    "retriever = vectorstore.as_retriever()\n",
    "retriever # FAISS 라는 Vector DB 를 사용하는 Retriever"
   ]
  },
  {
   "cell_type": "code",
   "execution_count": 33,
   "metadata": {},
   "outputs": [
    {
     "data": {
      "text/plain": [
       "[Document(metadata={'source': '/Users/t2023-m0072/Desktop/assignment_LLM_RAG/RAG/PDF/인공지능산업최신동향_2024년11월호.pdf', 'file_path': '/Users/t2023-m0072/Desktop/assignment_LLM_RAG/RAG/PDF/인공지능산업최신동향_2024년11월호.pdf', 'page': 13, 'total_pages': 25, 'format': 'PDF 1.4', 'title': '', 'author': 'dj', 'subject': '', 'keywords': '', 'creator': 'Hwp 2018 10.0.0.13947', 'producer': 'Hancom PDF 1.3.0.547', 'creationDate': \"D:20241105150426+09'00'\", 'modDate': \"D:20241105150426+09'00'\", 'trapped': ''}, page_content='∙카카오는 동 브랜드를 자사가 개발하는 주요 AI 모델과 신규 서비스의 이름에 두루 사용할 계획으로, \\nAI 메이트 서비스 ‘카나나’ 출시 계획도 공개'),\n",
       " Document(metadata={'source': '/Users/t2023-m0072/Desktop/assignment_LLM_RAG/RAG/PDF/인공지능산업최신동향_2024년11월호.pdf', 'file_path': '/Users/t2023-m0072/Desktop/assignment_LLM_RAG/RAG/PDF/인공지능산업최신동향_2024년11월호.pdf', 'page': 15, 'total_pages': 25, 'format': 'PDF 1.4', 'title': '', 'author': 'dj', 'subject': '', 'keywords': '', 'creator': 'Hwp 2018 10.0.0.13947', 'producer': 'Hancom PDF 1.3.0.547', 'creationDate': \"D:20241105150426+09'00'\", 'modDate': \"D:20241105150426+09'00'\", 'trapped': ''}, page_content='대한 접근성을 향상해 AI 연구와 개발 생태계의 다양성을 촉진하고 편향을 완화'),\n",
       " Document(metadata={'source': '/Users/t2023-m0072/Desktop/assignment_LLM_RAG/RAG/PDF/인공지능산업최신동향_2024년11월호.pdf', 'file_path': '/Users/t2023-m0072/Desktop/assignment_LLM_RAG/RAG/PDF/인공지능산업최신동향_2024년11월호.pdf', 'page': 20, 'total_pages': 25, 'format': 'PDF 1.4', 'title': '', 'author': 'dj', 'subject': '', 'keywords': '', 'creator': 'Hwp 2018 10.0.0.13947', 'producer': 'Hancom PDF 1.3.0.547', 'creationDate': \"D:20241105150426+09'00'\", 'modDate': \"D:20241105150426+09'00'\", 'trapped': ''}, page_content='이사회, 외부 관계자에게 기업이 AI로 뭔가를 하고 있음을 보여주기 위한 목적이라고 응답'),\n",
       " Document(metadata={'source': '/Users/t2023-m0072/Desktop/assignment_LLM_RAG/RAG/PDF/인공지능산업최신동향_2024년11월호.pdf', 'file_path': '/Users/t2023-m0072/Desktop/assignment_LLM_RAG/RAG/PDF/인공지능산업최신동향_2024년11월호.pdf', 'page': 13, 'total_pages': 25, 'format': 'PDF 1.4', 'title': '', 'author': 'dj', 'subject': '', 'keywords': '', 'creator': 'Hwp 2018 10.0.0.13947', 'producer': 'Hancom PDF 1.3.0.547', 'creationDate': \"D:20241105150426+09'00'\", 'modDate': \"D:20241105150426+09'00'\", 'trapped': ''}, page_content='않아도 자연스럽게 사용 가능한 기술’이라는 의미의 내츄럴(Natural) 등의 단어를 조합한 카나나는 \\n‘가장 나다운 AI’를 의미')]"
      ]
     },
     "execution_count": 33,
     "metadata": {},
     "output_type": "execute_result"
    }
   ],
   "source": [
    "# 검색기에 질문하기 - 비용 X\n",
    "retriever.invoke(\"삼성전자가 개발한 생성AI 이름은 무엇인가요?\") # 입력한 질문과 관련성이 높은 것부터 내림차순 정렬"
   ]
  },
  {
   "cell_type": "code",
   "execution_count": 34,
   "metadata": {},
   "outputs": [],
   "source": [
    "# 6단계 : 프롬프트 생성 \n",
    "prompt = PromptTemplate.from_template(\n",
    "    \"\"\"You are an assistant for question-answering tasks.\n",
    "    Use the following pieces of retrieved context to answer the question.\n",
    "    If you don't know the answer, just say that you don't know.\n",
    "    Answer in Korean.\n",
    "    \n",
    "    #Question:\n",
    "    {question}\n",
    "     \n",
    "    #Context:\n",
    "    {context}\n",
    "    \n",
    "    #Answer:\"\"\"\n",
    ")\n",
    "\n",
    "# 7단계 : 언어모델(LLM) 생성\n",
    "llm=ChatOpenAI(model_name='gpt-4o-mini',temperature=0)\n",
    "\n",
    "# 8단계 : 체인(Chain) 생성\n",
    "chain = (\n",
    "    {'context':retriever, 'question': RunnablePassthrough()}\n",
    "    | prompt # 위의 내용을 Prompt 로 전달\n",
    "    | llm # llm 을 거쳐\n",
    "    | StrOutputParser() # OutPut 이 나옴\n",
    ")"
   ]
  },
  {
   "cell_type": "code",
   "execution_count": 35,
   "metadata": {},
   "outputs": [
    {
     "name": "stdout",
     "output_type": "stream",
     "text": [
      "카카오는 자체 개발한 AI 이름으로 '카나나'를 사용하고 있습니다.\n"
     ]
    }
   ],
   "source": [
    "# 체인 실행\n",
    "# 문서에 대한 질의를 입력하고, 답변을 출력합니다.\n",
    "question = \"카카오가 자체 개발한 AI 이름은?\"\n",
    "response = chain.invoke(question)\n",
    "print(response)"
   ]
  },
  {
   "cell_type": "code",
   "execution_count": null,
   "metadata": {},
   "outputs": [],
   "source": [
    "메타에서 자체 개발한 AI를 알아?"
   ]
  }
 ],
 "metadata": {
  "kernelspec": {
   "display_name": "LLM_RAG",
   "language": "python",
   "name": "python3"
  },
  "language_info": {
   "codemirror_mode": {
    "name": "ipython",
    "version": 3
   },
   "file_extension": ".py",
   "mimetype": "text/x-python",
   "name": "python",
   "nbconvert_exporter": "python",
   "pygments_lexer": "ipython3",
   "version": "3.12.7"
  }
 },
 "nbformat": 4,
 "nbformat_minor": 2
}
