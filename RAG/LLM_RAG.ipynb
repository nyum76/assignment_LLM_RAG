{
 "cells": [
  {
   "cell_type": "markdown",
   "metadata": {},
   "source": [
    "## 1. 환경 설정\n"
   ]
  },
  {
   "cell_type": "code",
   "execution_count": 1,
   "metadata": {},
   "outputs": [
    {
     "data": {
      "text/plain": [
       "True"
      ]
     },
     "execution_count": 1,
     "metadata": {},
     "output_type": "execute_result"
    }
   ],
   "source": [
    "# API 키를 환경변수로 관리하기 위한 설정 파일\n",
    "from dotenv import load_dotenv\n",
    "\n",
    "# API 키 정보 로드\n",
    "load_dotenv()"
   ]
  },
  {
   "cell_type": "code",
   "execution_count": 2,
   "metadata": {},
   "outputs": [],
   "source": [
    "from langchain_text_splitters import RecursiveCharacterTextSplitter\n",
    "from langchain_community.document_loaders import PyMuPDFLoader\n",
    "from langchain_community.vectorstores import FAISS\n",
    "from langchain_core.output_parsers import StrOutputParser\n",
    "from langchain_core.runnables import RunnablePassthrough\n",
    "from langchain_core.prompts import PromptTemplate\n",
    "from langchain_openai import ChatOpenAI, OpenAIEmbeddings"
   ]
  },
  {
   "cell_type": "markdown",
   "metadata": {},
   "source": [
    "`pip install pymupdf`"
   ]
  },
  {
   "cell_type": "code",
   "execution_count": 3,
   "metadata": {},
   "outputs": [
    {
     "name": "stdout",
     "output_type": "stream",
     "text": [
      "Chunk 1:2024년 11월호\n",
      "\n",
      "\n",
      "Chunk 2:2024년 11월호\n",
      "Ⅰ. 인공지능 산업 동향 브리프\n",
      " 1. 정책/법제\n",
      "\n",
      "\n",
      "Chunk 3:▹ 미국 민권위원회, 연방정부의 얼굴인식 기술 사용에 따른 민권 영향 분석························ 1\n",
      "\n",
      "\n",
      "Chunk 4:▹ 미국 백악관 예산관리국, 정부의 책임 있는 AI 조달을 위한 지침 발표····························· 2\n",
      "\n",
      "\n",
      "Chunk 5:▹ 유로폴, 법 집행에서 AI의 이점과 과제를 다룬 보고서 발간·············································· 3\n",
      "\n",
      "\n",
      "Chunk 6:▹ OECD, 공공 부문의 AI 도입을 위한 G7 툴킷 발표·························································· 4\n",
      "\n",
      "\n",
      "Chunk 7:▹ 세계경제포럼, 생성AI 시대의 거버넌스 프레임워크 제시···················································· 5\n",
      "\n",
      "\n",
      "Chunk 8:2. 기업/산업 \n",
      "   ▹ CB인사이츠 분석 결과, 2024년 3분기 벤처 투자 31%가 AI 스타트업에 집중·············· 6\n",
      "\n",
      "\n",
      "Chunk 9:▹ 메타, 동영상 생성AI 도구 ‘메타 무비 젠’\n",
      "\n",
      "\n",
      "Chunk 10:‘메타 무비 젠’ 공개··································································· 7\n",
      "\n",
      "\n"
     ]
    }
   ],
   "source": [
    "# 문서 로드 \n",
    "loader = PyMuPDFLoader(\"/Users/t2023-m0072/Desktop/assignment_LLM_RAG/RAG/PDF/인공지능산업최신동향_2024년11월호.pdf\")\n",
    "docs = loader.load()\n",
    "\n",
    "# 문서 분할\n",
    "recursive_text_splitter = RecursiveCharacterTextSplitter(\n",
    "    chunk_size=100, # 각 청크 최대 100자 까지\n",
    "    chunk_overlap=10, # 청크간 최대 10자 중복\n",
    "    length_function=len, # 길이 계산 함수 : 문자 수 기준 (len())\n",
    "    is_separator_regex=False, # 구분자가 정규 표현식인지 여부 (False : 정확히 일치하는 구분자 기준)\n",
    ")\n",
    "\n",
    "split_documents = recursive_text_splitter.split_documents(docs)\n",
    "\n",
    "# 청킹된 내용의 상위 10개 출력\n",
    "top_10 = split_documents[:10]\n",
    "# print(f\"Chunk 3:{splits[3]}\")\n",
    "for i, chunk in enumerate(top_10, 1):\n",
    "    page_content = chunk.page_content\n",
    "    print(f\"Chunk {i}:{page_content[:300]}\\n\\n\")"
   ]
  },
  {
   "cell_type": "code",
   "execution_count": 4,
   "metadata": {},
   "outputs": [],
   "source": [
    "# 벡터 임베딩 생성\n",
    "embeddings = OpenAIEmbeddings(model = \"text-embedding-ada-002\")"
   ]
  },
  {
   "cell_type": "code",
   "execution_count": 5,
   "metadata": {},
   "outputs": [],
   "source": [
    "# 벡터 스토어 생성\n",
    "vectorstore = FAISS.from_documents(documents=split_documents,embedding=embeddings)"
   ]
  },
  {
   "cell_type": "code",
   "execution_count": null,
   "metadata": {},
   "outputs": [],
   "source": []
  }
 ],
 "metadata": {
  "kernelspec": {
   "display_name": "LLM_RAG",
   "language": "python",
   "name": "python3"
  },
  "language_info": {
   "codemirror_mode": {
    "name": "ipython",
    "version": 3
   },
   "file_extension": ".py",
   "mimetype": "text/x-python",
   "name": "python",
   "nbconvert_exporter": "python",
   "pygments_lexer": "ipython3",
   "version": "3.12.7"
  }
 },
 "nbformat": 4,
 "nbformat_minor": 2
}
